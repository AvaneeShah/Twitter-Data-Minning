{
 "cells": [
  {
   "cell_type": "code",
   "execution_count": 15,
   "id": "958a9622",
   "metadata": {},
   "outputs": [],
   "source": [
    "import tweepy\n",
    "import configparser"
   ]
  },
  {
   "cell_type": "code",
   "execution_count": 16,
   "id": "c70cd179",
   "metadata": {},
   "outputs": [],
   "source": [
    "API_KEY=\"EE5O2PDWuio8N3BUG9jpqmjLN\"\n",
    "API_KEY_SECRET=\"Fe8Tlda6HVTHfOygBKFIW1BrS4HhnpwJISm34jQMJmXsNVTRyh\"\n",
    "ACCESS_TOKEN=\"1619386792628654081-xcwW7cRdG0yGIwVtGEsWlHKeG2w2TV\"\n",
    "ACCESS_TOKEN_SECRET=\"F7lw0UJYYReEZ4CuM1kHfivdF3luLwroa1dDOpdPA4u3c\""
   ]
  },
  {
   "cell_type": "code",
   "execution_count": 17,
   "id": "bc0945c3",
   "metadata": {},
   "outputs": [],
   "source": [
    "auth=tweepy.OAuthHandler(API_KEY,API_KEY_SECRET)\n",
    "auth.set_access_token(ACCESS_TOKEN,ACCESS_TOKEN_SECRET)"
   ]
  },
  {
   "cell_type": "code",
   "execution_count": 18,
   "id": "cb06704a",
   "metadata": {},
   "outputs": [],
   "source": [
    "api=tweepy.API(auth)"
   ]
  },
  {
   "cell_type": "code",
   "execution_count": 19,
   "id": "9804e4fe",
   "metadata": {},
   "outputs": [],
   "source": [
    "public_tweets=api.home_timeline()"
   ]
  },
  {
   "cell_type": "code",
   "execution_count": 22,
   "id": "9a2f2ba2",
   "metadata": {},
   "outputs": [],
   "source": [
    "for i in public_tweets:\n",
    "    print(tweet.full_text)"
   ]
  },
  {
   "cell_type": "code",
   "execution_count": 35,
   "id": "13259bce",
   "metadata": {},
   "outputs": [],
   "source": [
    "api = tweepy.API(auth)\n",
    "keywords = 'covid'\n",
    "limit = 20"
   ]
  },
  {
   "cell_type": "code",
   "execution_count": 38,
   "id": "4d45ab1b",
   "metadata": {},
   "outputs": [],
   "source": [
    "public_tweets = api.search_tweets(count = limit, q= keywords,tweet_mode = 'extended')"
   ]
  },
  {
   "cell_type": "code",
   "execution_count": 39,
   "id": "8371a08b",
   "metadata": {},
   "outputs": [
    {
     "name": "stdout",
     "output_type": "stream",
     "text": [
      "RT @DrAseemMalhotra: Are the WHO corrupt ? Is Bill Gates ‘evil’ ? Why is the Astra Zeneca covid vaccine continuing to be used in India when…\n",
      "RT @P_McCulloughMD: Unfortunately, in California, 67% of 12- to 17-year-olds and 38% of children ages 5 to 11 have received two doses of th…\n",
      "RT @WillBlackWriter: Tories were practically licking their lips at the 'business opportunities' of the COVID pandemic\n",
      "\n",
      "Ane it wasn't just a…\n",
      "RT @Mohamme90939901: When the Covid jabs were rolled out, I was convinced that this was for a depopulation programme.\n",
      "\n",
      "People being threate…\n",
      "RT @tomgara: Covid had a low enough fatality rate that a lot of people, especially younger &amp; healthier people, could afford to be contraria…\n",
      "RT @ProfFatihACanli: Bundan 2 yıl önce aşağıdaki endişeyi Bilim Kurulu Üyelerine defalarca ilettim. Anlayacak kapasiteleri olmadığı için ba…\n",
      "@IslandGirlPRV @POTUS Btw its Congress that does the spending. Stimulus packages from covid etc. Pelosi raised it even more then what was originally proposed. Democrat Presidents spent less under Republican congress. https://t.co/upINlqjq5u\n",
      "RT @SandraWeeden: New ‘Covid’ variant, spreading rapidly, called Orthrus, after a Greek 2-headed dog. 🤦‍♀️\n",
      "\n",
      "Researchers have called the str…\n",
      "RT @KatePri14608408: 🇬🇧Covid cases up 50% in 10 days as Kraken variant spreads through UK.\n",
      "\n",
      "Cases spiking in children and the 35 - 49 age g…\n",
      "https://t.co/UWGSYbALUG There is a sinister motive behind everything they are manufacturing. #TrumpTruths #cindytruth #TT23 #MAGA #Truth #TruthSocial #DepopulationAgendaIsReal #RJ6P #ReleaseJ6Prisoners https://t.co/Pp26djt2Mw\n",
      "Must-read on covid policy. Excellent discussion. https://t.co/53jFdCaDDH\n",
      "RT @sebalacunza: La presunción es errada, @martintetaz\n",
      "\n",
      "Muertes x COVID cada 100.000 habitantes (Our World in Data)\n",
      " \n",
      "Chile: 337 (2do. en A…\n",
      "@covid_parent coal\n",
      "SÁBADO PELA MANHÃ \n",
      "Expectativa: Ir ao Gym e passar no IKEA\n",
      "Realidade: Ter de ir ao Escritório (ás 10:00 🤬) e tomar reforço da vacina COVID-19\n",
      "RT @FullFact: On TalkTV this evening Boris Johnson claimed the UK wouldn't have been able to approve the Covid-19 vaccines as quickly as it…\n",
      "RT @sandraschulze: Oh look .. a Chinese balloon in the wake of the “Pfizer Director Concerned Over Women's Reproductive Health After COVID-…\n",
      "@chrischirp Parents who want to compare likelihood of vaccine injury vs COVID-19 illness should watch this:\n",
      "https://t.co/7zPdbj6SVH\n",
      "RT @Jonathan_Cahn: WWN&gt;44% of US adults say aftermath of COVID-19 has made them 'more open to God': study... https://t.co/AEzo9k5S8C\n",
      "RT @LePapillonBlu2: Dumb ass magats haven’t cared about Covid in the United States for the last three years… now they’re worried there’s Co…\n",
      "RT @disclosetv: NEW - Unattractive people are more likely to keep wearing face masks in post-Covid era, a study suggests.\n",
      "\n",
      "Meanwhile, anoth…\n"
     ]
    }
   ],
   "source": [
    "for tweet in public_tweets:\n",
    "    print(tweet.full_text)"
   ]
  },
  {
   "cell_type": "code",
   "execution_count": null,
   "id": "8b4a4742",
   "metadata": {},
   "outputs": [],
   "source": []
  }
 ],
 "metadata": {
  "kernelspec": {
   "display_name": "Python 3 (ipykernel)",
   "language": "python",
   "name": "python3"
  },
  "language_info": {
   "codemirror_mode": {
    "name": "ipython",
    "version": 3
   },
   "file_extension": ".py",
   "mimetype": "text/x-python",
   "name": "python",
   "nbconvert_exporter": "python",
   "pygments_lexer": "ipython3",
   "version": "3.11.1"
  }
 },
 "nbformat": 4,
 "nbformat_minor": 5
}
